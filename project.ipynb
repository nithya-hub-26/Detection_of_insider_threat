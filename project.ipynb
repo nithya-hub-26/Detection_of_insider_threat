{
 "cells": [
  {
   "cell_type": "markdown",
   "id": "5bd0adda",
   "metadata": {},
   "source": [
    "# Importing the required libraries"
   ]
  },
  {
   "cell_type": "code",
   "execution_count": 1,
   "id": "3cb3d62e",
   "metadata": {},
   "outputs": [],
   "source": [
    "import pandas as pd\n",
    "import numpy as np\n",
    "import seaborn as sns\n",
    "import matplotlib.pyplot as plt\n",
    "from sklearn.metrics import accuracy_score\n",
    "from sklearn import svm\n",
    "from sklearn.ensemble import IsolationForest\n",
    "from sklearn.preprocessing import MinMaxScaler\n",
    "from keras.models import Sequential\n",
    "from keras.layers import Dense, LSTM, BatchNormalization, Dropout\n",
    "from tensorflow.keras.models import load_model\n",
    "import os\n",
    "import time \n",
    "import warnings\n",
    "warnings.filterwarnings('ignore')"
   ]
  },
  {
   "cell_type": "code",
   "execution_count": 2,
   "id": "74074fff",
   "metadata": {},
   "outputs": [],
   "source": [
    "# load data and do preliminary cleaning\n",
    "directory = 'data'\n",
    "\n",
    "filepath = os.path.join(directory,'insider-network-traffic.csv')\n",
    "df = pd.read_csv(filepath)"
   ]
  },
  {
   "cell_type": "code",
   "execution_count": 3,
   "id": "feb7f9dc",
   "metadata": {},
   "outputs": [
    {
     "data": {
      "text/html": [
       "<div>\n",
       "<style scoped>\n",
       "    .dataframe tbody tr th:only-of-type {\n",
       "        vertical-align: middle;\n",
       "    }\n",
       "\n",
       "    .dataframe tbody tr th {\n",
       "        vertical-align: top;\n",
       "    }\n",
       "\n",
       "    .dataframe thead th {\n",
       "        text-align: right;\n",
       "    }\n",
       "</style>\n",
       "<table border=\"1\" class=\"dataframe\">\n",
       "  <thead>\n",
       "    <tr style=\"text-align: right;\">\n",
       "      <th></th>\n",
       "      <th>Dst Port</th>\n",
       "      <th>Protocol</th>\n",
       "      <th>Timestamp</th>\n",
       "      <th>Flow Duration</th>\n",
       "      <th>Tot Fwd Pkts</th>\n",
       "      <th>Tot Bwd Pkts</th>\n",
       "      <th>TotLen Fwd Pkts</th>\n",
       "      <th>TotLen Bwd Pkts</th>\n",
       "      <th>Fwd Pkt Len Max</th>\n",
       "      <th>Fwd Pkt Len Min</th>\n",
       "      <th>...</th>\n",
       "      <th>Fwd Seg Size Min</th>\n",
       "      <th>Active Mean</th>\n",
       "      <th>Active Std</th>\n",
       "      <th>Active Max</th>\n",
       "      <th>Active Min</th>\n",
       "      <th>Idle Mean</th>\n",
       "      <th>Idle Std</th>\n",
       "      <th>Idle Max</th>\n",
       "      <th>Idle Min</th>\n",
       "      <th>Label</th>\n",
       "    </tr>\n",
       "  </thead>\n",
       "  <tbody>\n",
       "    <tr>\n",
       "      <th>0</th>\n",
       "      <td>0</td>\n",
       "      <td>0</td>\n",
       "      <td>01-03-2018 08:17</td>\n",
       "      <td>115307855</td>\n",
       "      <td>5</td>\n",
       "      <td>0</td>\n",
       "      <td>0</td>\n",
       "      <td>0</td>\n",
       "      <td>0</td>\n",
       "      <td>0</td>\n",
       "      <td>...</td>\n",
       "      <td>0</td>\n",
       "      <td>1812348.0</td>\n",
       "      <td>0.0</td>\n",
       "      <td>1812348</td>\n",
       "      <td>1812348</td>\n",
       "      <td>56700000.0</td>\n",
       "      <td>6010057.622</td>\n",
       "      <td>61000000</td>\n",
       "      <td>52500000</td>\n",
       "      <td>Benign</td>\n",
       "    </tr>\n",
       "    <tr>\n",
       "      <th>1</th>\n",
       "      <td>0</td>\n",
       "      <td>0</td>\n",
       "      <td>01-03-2018 08:20</td>\n",
       "      <td>60997457</td>\n",
       "      <td>2</td>\n",
       "      <td>0</td>\n",
       "      <td>0</td>\n",
       "      <td>0</td>\n",
       "      <td>0</td>\n",
       "      <td>0</td>\n",
       "      <td>...</td>\n",
       "      <td>0</td>\n",
       "      <td>0.0</td>\n",
       "      <td>0.0</td>\n",
       "      <td>0</td>\n",
       "      <td>0</td>\n",
       "      <td>61000000.0</td>\n",
       "      <td>0.0</td>\n",
       "      <td>61000000</td>\n",
       "      <td>61000000</td>\n",
       "      <td>Benign</td>\n",
       "    </tr>\n",
       "    <tr>\n",
       "      <th>2</th>\n",
       "      <td>67</td>\n",
       "      <td>17</td>\n",
       "      <td>01-03-2018 08:17</td>\n",
       "      <td>61149019</td>\n",
       "      <td>5</td>\n",
       "      <td>0</td>\n",
       "      <td>1500</td>\n",
       "      <td>0</td>\n",
       "      <td>300</td>\n",
       "      <td>300</td>\n",
       "      <td>...</td>\n",
       "      <td>8</td>\n",
       "      <td>3530939.0</td>\n",
       "      <td>0.0</td>\n",
       "      <td>3530939</td>\n",
       "      <td>3530939</td>\n",
       "      <td>19200000.0</td>\n",
       "      <td>12500000.0</td>\n",
       "      <td>32600000</td>\n",
       "      <td>7999725</td>\n",
       "      <td>Benign</td>\n",
       "    </tr>\n",
       "    <tr>\n",
       "      <th>3</th>\n",
       "      <td>0</td>\n",
       "      <td>0</td>\n",
       "      <td>01-03-2018 08:22</td>\n",
       "      <td>60997555</td>\n",
       "      <td>2</td>\n",
       "      <td>0</td>\n",
       "      <td>0</td>\n",
       "      <td>0</td>\n",
       "      <td>0</td>\n",
       "      <td>0</td>\n",
       "      <td>...</td>\n",
       "      <td>0</td>\n",
       "      <td>0.0</td>\n",
       "      <td>0.0</td>\n",
       "      <td>0</td>\n",
       "      <td>0</td>\n",
       "      <td>61000000.0</td>\n",
       "      <td>0.0</td>\n",
       "      <td>61000000</td>\n",
       "      <td>61000000</td>\n",
       "      <td>Benign</td>\n",
       "    </tr>\n",
       "    <tr>\n",
       "      <th>4</th>\n",
       "      <td>0</td>\n",
       "      <td>0</td>\n",
       "      <td>01-03-2018 08:24</td>\n",
       "      <td>61997503</td>\n",
       "      <td>3</td>\n",
       "      <td>0</td>\n",
       "      <td>0</td>\n",
       "      <td>0</td>\n",
       "      <td>0</td>\n",
       "      <td>0</td>\n",
       "      <td>...</td>\n",
       "      <td>0</td>\n",
       "      <td>999909.0</td>\n",
       "      <td>0.0</td>\n",
       "      <td>999909</td>\n",
       "      <td>999909</td>\n",
       "      <td>61000000.0</td>\n",
       "      <td>0.0</td>\n",
       "      <td>61000000</td>\n",
       "      <td>61000000</td>\n",
       "      <td>Benign</td>\n",
       "    </tr>\n",
       "    <tr>\n",
       "      <th>...</th>\n",
       "      <td>...</td>\n",
       "      <td>...</td>\n",
       "      <td>...</td>\n",
       "      <td>...</td>\n",
       "      <td>...</td>\n",
       "      <td>...</td>\n",
       "      <td>...</td>\n",
       "      <td>...</td>\n",
       "      <td>...</td>\n",
       "      <td>...</td>\n",
       "      <td>...</td>\n",
       "      <td>...</td>\n",
       "      <td>...</td>\n",
       "      <td>...</td>\n",
       "      <td>...</td>\n",
       "      <td>...</td>\n",
       "      <td>...</td>\n",
       "      <td>...</td>\n",
       "      <td>...</td>\n",
       "      <td>...</td>\n",
       "      <td>...</td>\n",
       "    </tr>\n",
       "    <tr>\n",
       "      <th>331096</th>\n",
       "      <td>0</td>\n",
       "      <td>0</td>\n",
       "      <td>01-03-2018 12:59</td>\n",
       "      <td>118494070</td>\n",
       "      <td>31</td>\n",
       "      <td>0</td>\n",
       "      <td>0</td>\n",
       "      <td>0</td>\n",
       "      <td>0</td>\n",
       "      <td>0</td>\n",
       "      <td>...</td>\n",
       "      <td>0</td>\n",
       "      <td>0.0</td>\n",
       "      <td>0.0</td>\n",
       "      <td>0</td>\n",
       "      <td>0</td>\n",
       "      <td>0.0</td>\n",
       "      <td>0.0</td>\n",
       "      <td>0</td>\n",
       "      <td>0</td>\n",
       "      <td>Benign</td>\n",
       "    </tr>\n",
       "    <tr>\n",
       "      <th>331097</th>\n",
       "      <td>2634</td>\n",
       "      <td>6</td>\n",
       "      <td>01-03-2018 12:59</td>\n",
       "      <td>114340</td>\n",
       "      <td>2</td>\n",
       "      <td>1</td>\n",
       "      <td>0</td>\n",
       "      <td>0</td>\n",
       "      <td>0</td>\n",
       "      <td>0</td>\n",
       "      <td>...</td>\n",
       "      <td>20</td>\n",
       "      <td>0.0</td>\n",
       "      <td>0.0</td>\n",
       "      <td>0</td>\n",
       "      <td>0</td>\n",
       "      <td>0.0</td>\n",
       "      <td>0.0</td>\n",
       "      <td>0</td>\n",
       "      <td>0</td>\n",
       "      <td>Benign</td>\n",
       "    </tr>\n",
       "    <tr>\n",
       "      <th>331098</th>\n",
       "      <td>3389</td>\n",
       "      <td>6</td>\n",
       "      <td>01-03-2018 12:59</td>\n",
       "      <td>1404866</td>\n",
       "      <td>8</td>\n",
       "      <td>7</td>\n",
       "      <td>1132</td>\n",
       "      <td>1581</td>\n",
       "      <td>661</td>\n",
       "      <td>0</td>\n",
       "      <td>...</td>\n",
       "      <td>20</td>\n",
       "      <td>0.0</td>\n",
       "      <td>0.0</td>\n",
       "      <td>0</td>\n",
       "      <td>0</td>\n",
       "      <td>0.0</td>\n",
       "      <td>0.0</td>\n",
       "      <td>0</td>\n",
       "      <td>0</td>\n",
       "      <td>Benign</td>\n",
       "    </tr>\n",
       "    <tr>\n",
       "      <th>331099</th>\n",
       "      <td>3389</td>\n",
       "      <td>6</td>\n",
       "      <td>01-03-2018 12:59</td>\n",
       "      <td>3966663</td>\n",
       "      <td>14</td>\n",
       "      <td>7</td>\n",
       "      <td>1386</td>\n",
       "      <td>392</td>\n",
       "      <td>680</td>\n",
       "      <td>0</td>\n",
       "      <td>...</td>\n",
       "      <td>20</td>\n",
       "      <td>0.0</td>\n",
       "      <td>0.0</td>\n",
       "      <td>0</td>\n",
       "      <td>0</td>\n",
       "      <td>0.0</td>\n",
       "      <td>0.0</td>\n",
       "      <td>0</td>\n",
       "      <td>0</td>\n",
       "      <td>Benign</td>\n",
       "    </tr>\n",
       "    <tr>\n",
       "      <th>331100</th>\n",
       "      <td>53092</td>\n",
       "      <td>6</td>\n",
       "      <td>01-03-2018 12:59</td>\n",
       "      <td>86637706</td>\n",
       "      <td>2</td>\n",
       "      <td>0</td>\n",
       "      <td>0</td>\n",
       "      <td>0</td>\n",
       "      <td>0</td>\n",
       "      <td>0</td>\n",
       "      <td>...</td>\n",
       "      <td>20</td>\n",
       "      <td>0.0</td>\n",
       "      <td>0.0</td>\n",
       "      <td>0</td>\n",
       "      <td>0</td>\n",
       "      <td>86600000.0</td>\n",
       "      <td>0.0</td>\n",
       "      <td>86600000</td>\n",
       "      <td>86600000</td>\n",
       "      <td>Benign</td>\n",
       "    </tr>\n",
       "  </tbody>\n",
       "</table>\n",
       "<p>331101 rows × 80 columns</p>\n",
       "</div>"
      ],
      "text/plain": [
       "       Dst Port Protocol         Timestamp Flow Duration Tot Fwd Pkts  \\\n",
       "0             0        0  01-03-2018 08:17     115307855            5   \n",
       "1             0        0  01-03-2018 08:20      60997457            2   \n",
       "2            67       17  01-03-2018 08:17      61149019            5   \n",
       "3             0        0  01-03-2018 08:22      60997555            2   \n",
       "4             0        0  01-03-2018 08:24      61997503            3   \n",
       "...         ...      ...               ...           ...          ...   \n",
       "331096        0        0  01-03-2018 12:59     118494070           31   \n",
       "331097     2634        6  01-03-2018 12:59        114340            2   \n",
       "331098     3389        6  01-03-2018 12:59       1404866            8   \n",
       "331099     3389        6  01-03-2018 12:59       3966663           14   \n",
       "331100    53092        6  01-03-2018 12:59      86637706            2   \n",
       "\n",
       "       Tot Bwd Pkts TotLen Fwd Pkts TotLen Bwd Pkts Fwd Pkt Len Max  \\\n",
       "0                 0               0               0               0   \n",
       "1                 0               0               0               0   \n",
       "2                 0            1500               0             300   \n",
       "3                 0               0               0               0   \n",
       "4                 0               0               0               0   \n",
       "...             ...             ...             ...             ...   \n",
       "331096            0               0               0               0   \n",
       "331097            1               0               0               0   \n",
       "331098            7            1132            1581             661   \n",
       "331099            7            1386             392             680   \n",
       "331100            0               0               0               0   \n",
       "\n",
       "       Fwd Pkt Len Min  ... Fwd Seg Size Min Active Mean Active Std  \\\n",
       "0                    0  ...                0   1812348.0        0.0   \n",
       "1                    0  ...                0         0.0        0.0   \n",
       "2                  300  ...                8   3530939.0        0.0   \n",
       "3                    0  ...                0         0.0        0.0   \n",
       "4                    0  ...                0    999909.0        0.0   \n",
       "...                ...  ...              ...         ...        ...   \n",
       "331096               0  ...                0         0.0        0.0   \n",
       "331097               0  ...               20         0.0        0.0   \n",
       "331098               0  ...               20         0.0        0.0   \n",
       "331099               0  ...               20         0.0        0.0   \n",
       "331100               0  ...               20         0.0        0.0   \n",
       "\n",
       "       Active Max Active Min   Idle Mean     Idle Std  Idle Max  Idle Min  \\\n",
       "0         1812348    1812348  56700000.0  6010057.622  61000000  52500000   \n",
       "1               0          0  61000000.0          0.0  61000000  61000000   \n",
       "2         3530939    3530939  19200000.0   12500000.0  32600000   7999725   \n",
       "3               0          0  61000000.0          0.0  61000000  61000000   \n",
       "4          999909     999909  61000000.0          0.0  61000000  61000000   \n",
       "...           ...        ...         ...          ...       ...       ...   \n",
       "331096          0          0         0.0          0.0         0         0   \n",
       "331097          0          0         0.0          0.0         0         0   \n",
       "331098          0          0         0.0          0.0         0         0   \n",
       "331099          0          0         0.0          0.0         0         0   \n",
       "331100          0          0  86600000.0          0.0  86600000  86600000   \n",
       "\n",
       "         Label  \n",
       "0       Benign  \n",
       "1       Benign  \n",
       "2       Benign  \n",
       "3       Benign  \n",
       "4       Benign  \n",
       "...        ...  \n",
       "331096  Benign  \n",
       "331097  Benign  \n",
       "331098  Benign  \n",
       "331099  Benign  \n",
       "331100  Benign  \n",
       "\n",
       "[331101 rows x 80 columns]"
      ]
     },
     "execution_count": 3,
     "metadata": {},
     "output_type": "execute_result"
    }
   ],
   "source": [
    "df"
   ]
  },
  {
   "cell_type": "code",
   "execution_count": 4,
   "id": "fa3186b7",
   "metadata": {},
   "outputs": [
    {
     "name": "stdout",
     "output_type": "stream",
     "text": [
      "Benign     238037\n",
      "insider     93063\n",
      "Label           1\n",
      "Name: Label, dtype: int64\n"
     ]
    }
   ],
   "source": [
    "# get count of each label\n",
    "print(df['Label'].value_counts())"
   ]
  },
  {
   "cell_type": "markdown",
   "id": "51db35fa",
   "metadata": {},
   "source": [
    "# Data Preprocessing"
   ]
  },
  {
   "cell_type": "code",
   "execution_count": 5,
   "id": "fc8c0482",
   "metadata": {},
   "outputs": [],
   "source": [
    "# convert columns to correct data types\n",
    "\n",
    "df[['Dst Port','Protocol','Label']] = df[['Dst Port','Protocol','Label']].astype(str)\n",
    "\n",
    "df[df.columns.difference(['Dst Port','Protocol','Label'])] = df[df.columns.difference(['Dst Port','Protocol','Label'])].apply(pd.to_numeric, errors='coerce')\n"
   ]
  },
  {
   "cell_type": "code",
   "execution_count": 6,
   "id": "a66570a3",
   "metadata": {},
   "outputs": [],
   "source": [
    "df = df.drop(['Timestamp'],axis=1)\n",
    "df.replace([np.inf, -np.inf], np.nan, inplace=True)  # for handling missing or infinite values in the data\n",
    "df = df.dropna()"
   ]
  },
  {
   "cell_type": "code",
   "execution_count": 7,
   "id": "f49e9582",
   "metadata": {},
   "outputs": [],
   "source": [
    "df.replace({'insider':1,'Benign':0}, inplace = True)"
   ]
  },
  {
   "cell_type": "code",
   "execution_count": 8,
   "id": "50e1b2b7",
   "metadata": {},
   "outputs": [
    {
     "name": "stdout",
     "output_type": "stream",
     "text": [
      "0    235778\n",
      "1     92403\n",
      "Name: Label, dtype: int64\n"
     ]
    }
   ],
   "source": [
    "print(df['Label'].value_counts())"
   ]
  },
  {
   "cell_type": "code",
   "execution_count": 9,
   "id": "3fd412ee",
   "metadata": {},
   "outputs": [
    {
     "data": {
      "image/png": "[encoded data removed]",
      "text/plain": [
       "<Figure size 400x400 with 1 Axes>"
      ]
     },
     "metadata": {},
     "output_type": "display_data"
    }
   ],
   "source": [
    "plt.figure(figsize=(4, 4))\n",
    "sns.countplot(x='Label', data=df)\n",
    "plt.show()"
   ]
  },
  {
   "cell_type": "code",
   "execution_count": 10,
   "id": "7b22b0ff",
   "metadata": {},
   "outputs": [
    {
     "data": {
      "text/plain": [
       "(328181, 79)"
      ]
     },
     "execution_count": 10,
     "metadata": {},
     "output_type": "execute_result"
    }
   ],
   "source": [
    "df.shape"
   ]
  },
  {
   "cell_type": "code",
   "execution_count": 11,
   "id": "32164b64",
   "metadata": {},
   "outputs": [],
   "source": [
    "# get the data types of each column\n",
    "dtypes = df.dtypes\n",
    "\n",
    "# loop through the columns and convert to float\n",
    "for column in df.columns:\n",
    "    if dtypes[column] != 'float':\n",
    "        df[column] = df[column].astype('float')"
   ]
  },
  {
   "cell_type": "code",
   "execution_count": 12,
   "id": "9df535f2",
   "metadata": {},
   "outputs": [
    {
     "data": {
      "text/plain": [
       "Dst Port          object\n",
       "Protocol          object\n",
       "Flow Duration    float64\n",
       "Tot Fwd Pkts     float64\n",
       "Tot Bwd Pkts     float64\n",
       "                  ...   \n",
       "Idle Mean        float64\n",
       "Idle Std         float64\n",
       "Idle Max         float64\n",
       "Idle Min         float64\n",
       "Label              int64\n",
       "Length: 79, dtype: object"
      ]
     },
     "execution_count": 12,
     "metadata": {},
     "output_type": "execute_result"
    }
   ],
   "source": [
    "dtypes"
   ]
  },
  {
   "cell_type": "markdown",
   "id": "c16ebb5f",
   "metadata": {},
   "source": [
    "# Data Splitting"
   ]
  },
  {
   "cell_type": "code",
   "execution_count": 13,
   "id": "ac763004",
   "metadata": {},
   "outputs": [],
   "source": [
    "train = df.loc[df['Label'] == 0].sample(frac=.80, random_state=123)\n",
    "x_train = train.iloc[:, :-1]\n",
    "y_train = train.iloc[:, -1]"
   ]
  },
  {
   "cell_type": "code",
   "execution_count": 14,
   "id": "03bd2bda",
   "metadata": {},
   "outputs": [],
   "source": [
    "test = df.sample(frac=.20, random_state=123)\n",
    "x_test = test.iloc[:, :-1]\n",
    "y_test = test.iloc[:, -1]"
   ]
  },
  {
   "cell_type": "markdown",
   "id": "fd6f160e",
   "metadata": {},
   "source": [
    "# Normalization of data\n",
    "\n",
    "MinMaxScaler is a data normalization technique that scales the data to a fixed range between 0 and 1. It transforms the features by subtracting the minimum value and dividing by the range of the feature."
   ]
  },
  {
   "cell_type": "code",
   "execution_count": 15,
   "id": "294ed424",
   "metadata": {},
   "outputs": [],
   "source": [
    "# Normalize the data\n",
    "scaler = MinMaxScaler(feature_range=(0, 1))"
   ]
  },
  {
   "cell_type": "code",
   "execution_count": 16,
   "id": "338aa974",
   "metadata": {},
   "outputs": [],
   "source": [
    "# Fitting the Scaler over the x_train and x_test\n",
    "x_train = scaler.fit_transform(x_train)\n",
    "x_test = scaler.fit_transform(x_test)"
   ]
  },
  {
   "cell_type": "code",
   "execution_count": 17,
   "id": "218799a6",
   "metadata": {},
   "outputs": [
    {
     "data": {
      "text/plain": [
       "(188622, 78)"
      ]
     },
     "execution_count": 17,
     "metadata": {},
     "output_type": "execute_result"
    }
   ],
   "source": [
    "x_train.shape"
   ]
  },
  {
   "cell_type": "code",
   "execution_count": 18,
   "id": "cd86b7ac",
   "metadata": {},
   "outputs": [
    {
     "data": {
      "text/plain": [
       "(188622,)"
      ]
     },
     "execution_count": 18,
     "metadata": {},
     "output_type": "execute_result"
    }
   ],
   "source": [
    "y_train.shape"
   ]
  },
  {
   "cell_type": "code",
   "execution_count": 19,
   "id": "f64d394e",
   "metadata": {},
   "outputs": [
    {
     "data": {
      "text/plain": [
       "(65636, 78)"
      ]
     },
     "execution_count": 19,
     "metadata": {},
     "output_type": "execute_result"
    }
   ],
   "source": [
    "x_test.shape"
   ]
  },
  {
   "cell_type": "code",
   "execution_count": 20,
   "id": "b6f61b96",
   "metadata": {},
   "outputs": [
    {
     "data": {
      "text/plain": [
       "(65636,)"
      ]
     },
     "execution_count": 20,
     "metadata": {},
     "output_type": "execute_result"
    }
   ],
   "source": [
    "y_test.shape"
   ]
  },
  {
   "cell_type": "markdown",
   "id": "74669345",
   "metadata": {},
   "source": [
    "# Model Training"
   ]
  },
  {
   "cell_type": "markdown",
   "id": "a81aa4a8",
   "metadata": {},
   "source": [
    "# LSTM\n",
    "\n",
    "LSTM (Long Short-Term Memory) is a type of recurrent neural network (RNN) architecture that is widely used for sequential data analysis, such as time series forecasting, natural language processing, speech recognition, and more.\n",
    "\n",
    "Unlike traditional RNNs, which suffer from the vanishing gradient problem and have difficulties in remembering long-term dependencies, LSTMs use a memory cell and several gates (input gate, forget gate, output gate) to control the flow of information and selectively remember or forget previous inputs.\n",
    "\n",
    "LSTMs have been shown to be effective in modeling time series data with long-term dependencies and are often used in anomaly detection, where the goal is to identify patterns in the data that deviate significantly from the expected behavior."
   ]
  },
  {
   "cell_type": "code",
   "execution_count": 21,
   "id": "e990027f",
   "metadata": {},
   "outputs": [],
   "source": [
    "# Define the model architecture\n",
    "model = Sequential()\n",
    "\n",
    "model.add(LSTM(128, input_shape=(78,1), return_sequences=True, activation='relu'))\n",
    "\n",
    "model.add(LSTM(64, return_sequences=True, activation='relu'))\n",
    "\n",
    "model.add(LSTM(32, return_sequences=True, activation='relu'))\n",
    "\n",
    "model.add(Dense(1, activation='sigmoid'))"
   ]
  },
  {
   "cell_type": "code",
   "execution_count": 22,
   "id": "107589dc",
   "metadata": {},
   "outputs": [],
   "source": [
    "# Compile the model\n",
    "model.compile(optimizer='adam', loss='mse', metrics=['accuracy'])"
   ]
  },
  {
   "cell_type": "code",
   "execution_count": 23,
   "id": "6bb8c0f5",
   "metadata": {},
   "outputs": [],
   "source": [
    "# Add batch normalization and dropout regularization \n",
    "model.add(BatchNormalization())\n",
    "model.add(Dropout(0.2))"
   ]
  },
  {
   "cell_type": "code",
   "execution_count": 24,
   "id": "e30ebc58",
   "metadata": {},
   "outputs": [],
   "source": [
    "#Train the model\n",
    "model.fit(x_train, y_train, epochs=10, batch_size=32)"
   ]
  },
  {
   "cell_type": "markdown",
   "id": "8cf8f59a",
   "metadata": {},
   "source": [
    "# Save the model"
   ]
  },
  {
   "cell_type": "code",
   "execution_count": 25,
   "id": "7bd22b21",
   "metadata": {},
   "outputs": [],
   "source": [
    "model.save('models/models5-3L-BD.h5')"
   ]
  },
  {
   "cell_type": "markdown",
   "id": "02dc3ce1",
   "metadata": {},
   "source": [
    "# Load the model"
   ]
  },
  {
   "cell_type": "code",
   "execution_count": 24,
   "id": "0628764c",
   "metadata": {},
   "outputs": [],
   "source": [
    "model = load_model(r'E:\\final_yr_project\\models\\model5-3L-BD.h5')"
   ]
  },
  {
   "cell_type": "markdown",
   "id": "b967059a",
   "metadata": {},
   "source": [
    "# Evaluate the model"
   ]
  },
  {
   "cell_type": "code",
   "execution_count": 25,
   "id": "dec5bc62",
   "metadata": {},
   "outputs": [
    {
     "name": "stdout",
     "output_type": "stream",
     "text": [
      "2052/2052 [==============================] - 76s 37ms/step - loss: 0.1753 - accuracy: 0.7696\n"
     ]
    }
   ],
   "source": [
    "metrics = model.evaluate(x_test, y_test)"
   ]
  },
  {
   "cell_type": "code",
   "execution_count": 26,
   "id": "2f6b9912",
   "metadata": {},
   "outputs": [
    {
     "name": "stdout",
     "output_type": "stream",
     "text": [
      "[0.17526791989803314, 0.7695624232292175]\n"
     ]
    }
   ],
   "source": [
    "print(metrics)"
   ]
  },
  {
   "cell_type": "markdown",
   "id": "729aca56",
   "metadata": {},
   "source": [
    "# Predict the anomalies"
   ]
  },
  {
   "cell_type": "code",
   "execution_count": 27,
   "id": "1cf6e77c",
   "metadata": {},
   "outputs": [
    {
     "name": "stdout",
     "output_type": "stream",
     "text": [
      "2052/2052 [==============================] - 76s 36ms/step\n"
     ]
    }
   ],
   "source": [
    "anomalies = model.predict(x_test)"
   ]
  },
  {
   "cell_type": "code",
   "execution_count": 28,
   "id": "449e5906",
   "metadata": {},
   "outputs": [
    {
     "data": {
      "text/plain": [
       "array([0.22057056, 0.19190407, 0.22019577, ..., 0.22372818, 0.22110462,\n",
       "       0.22457981], dtype=float32)"
      ]
     },
     "execution_count": 28,
     "metadata": {},
     "output_type": "execute_result"
    }
   ],
   "source": [
    "y_pred = anomalies.ravel()   # returns a flattened array (a 1D array)\n",
    "y_pred"
   ]
  },
  {
   "cell_type": "code",
   "execution_count": 29,
   "id": "222c34c8",
   "metadata": {},
   "outputs": [],
   "source": [
    "# Define threshold value\n",
    "threshold = 0.5\n",
    "anomalies = np.where(y_pred > threshold)"
   ]
  },
  {
   "cell_type": "code",
   "execution_count": 30,
   "id": "c87fca58",
   "metadata": {},
   "outputs": [],
   "source": [
    "y_pred = [1 if pred > threshold else 0 for pred in y_pred]"
   ]
  },
  {
   "cell_type": "markdown",
   "id": "2d6bc6e9",
   "metadata": {},
   "source": [
    "# Observing the metric"
   ]
  },
  {
   "cell_type": "code",
   "execution_count": 31,
   "id": "e8660c46",
   "metadata": {},
   "outputs": [],
   "source": [
    "accuracy = []"
   ]
  },
  {
   "cell_type": "code",
   "execution_count": 32,
   "id": "e9e1ef51",
   "metadata": {},
   "outputs": [
    {
     "data": {
      "text/plain": [
       "0.7695624352489487"
      ]
     },
     "execution_count": 32,
     "metadata": {},
     "output_type": "execute_result"
    }
   ],
   "source": [
    "acc = accuracy_score(y_test, y_pred)\n",
    "acc"
   ]
  },
  {
   "cell_type": "code",
   "execution_count": 33,
   "id": "44a40a86",
   "metadata": {},
   "outputs": [],
   "source": [
    "accuracy.append(acc)"
   ]
  },
  {
   "cell_type": "markdown",
   "id": "6d35e425",
   "metadata": {},
   "source": [
    "# Isolation Forest\n",
    "\n",
    "\n",
    "Isolation Forest is an anomaly detection algorithm based on the concept of decision trees. It randomly selects a feature and a split value to partition the data into two parts, one with anomalies and one without. It repeats this process until each anomaly is isolated in its own partition, making it an outlier. It does not make any assumptions about the distribution of the data and can handle high-dimensional data efficiently."
   ]
  },
  {
   "cell_type": "code",
   "execution_count": 34,
   "id": "36affb35",
   "metadata": {},
   "outputs": [],
   "source": [
    "train = df.loc[df['Label'] == 0].sample(frac=.80, random_state=123)\n",
    "test = df.drop(train.index)"
   ]
  },
  {
   "cell_type": "code",
   "execution_count": 35,
   "id": "574ec215",
   "metadata": {},
   "outputs": [],
   "source": [
    "tf = train[train.columns.difference(['Label'])].sample(frac=.01, random_state=123)\n",
    "y_test = test.iloc[:, -1]\n",
    "x_test = test.iloc[:, :-1]"
   ]
  },
  {
   "cell_type": "code",
   "execution_count": 36,
   "id": "651410eb",
   "metadata": {},
   "outputs": [
    {
     "name": "stdout",
     "output_type": "stream",
     "text": [
      "0.4694688320159912\n"
     ]
    }
   ],
   "source": [
    "start = time.time()\n",
    "rng = np.random.RandomState(42)\n",
    "\n",
    "# fit the model\n",
    "iF = IsolationForest(max_samples=2000, random_state=rng, contamination=0.10)\n",
    "iF.fit(tf)\n",
    "print(time.time() - start)"
   ]
  },
  {
   "cell_type": "code",
   "execution_count": 37,
   "id": "c2b5adbf",
   "metadata": {},
   "outputs": [],
   "source": [
    "# predicting the test data\n",
    "y_pred = iF.predict(x_test)"
   ]
  },
  {
   "cell_type": "code",
   "execution_count": 38,
   "id": "789e9432",
   "metadata": {},
   "outputs": [
    {
     "data": {
      "text/plain": [
       "array([-1, -1, -1, ..., -1, -1, -1])"
      ]
     },
     "execution_count": 38,
     "metadata": {},
     "output_type": "execute_result"
    }
   ],
   "source": [
    "y_pred"
   ]
  },
  {
   "cell_type": "code",
   "execution_count": 39,
   "id": "084e3cb9",
   "metadata": {},
   "outputs": [],
   "source": [
    "y_pred = [1 if x == -1 else 0 for x in y_pred]"
   ]
  },
  {
   "cell_type": "code",
   "execution_count": 40,
   "id": "d57aa938",
   "metadata": {},
   "outputs": [
    {
     "data": {
      "text/plain": [
       "(139559,)"
      ]
     },
     "execution_count": 40,
     "metadata": {},
     "output_type": "execute_result"
    }
   ],
   "source": [
    "y_test.shape"
   ]
  },
  {
   "cell_type": "code",
   "execution_count": 41,
   "id": "aa924cd3",
   "metadata": {},
   "outputs": [],
   "source": [
    "y_test = y_test.astype(int)"
   ]
  },
  {
   "cell_type": "code",
   "execution_count": 42,
   "id": "7712f455",
   "metadata": {},
   "outputs": [
    {
     "data": {
      "text/plain": [
       "0.4965856734427733"
      ]
     },
     "execution_count": 42,
     "metadata": {},
     "output_type": "execute_result"
    }
   ],
   "source": [
    "# observing the accuracy\n",
    "acc = accuracy_score(y_test, y_pred)\n",
    "acc"
   ]
  },
  {
   "cell_type": "code",
   "execution_count": 43,
   "id": "ecf8bbe0",
   "metadata": {},
   "outputs": [],
   "source": [
    "accuracy.append(acc)"
   ]
  },
  {
   "cell_type": "markdown",
   "id": "9ad9967f",
   "metadata": {},
   "source": [
    "# One-class SVM\n",
    "\n",
    "One-class SVM is a type of support vector machine that learns a decision boundary around the normal data points in a dataset, with the aim of identifying the anomalies as the points outside the decision boundary. One-class SVM is suitable for unsupervised anomaly detection tasks, where there is no labeled data for training a supervised model."
   ]
  },
  {
   "cell_type": "code",
   "execution_count": 44,
   "id": "85f1269c",
   "metadata": {},
   "outputs": [
    {
     "name": "stdout",
     "output_type": "stream",
     "text": [
      "0.48748016357421875\n"
     ]
    }
   ],
   "source": [
    "start = time.time()\n",
    "# fit the model\n",
    "clf = svm.OneClassSVM(nu=0.1, kernel=\"rbf\", gamma=0.1)\n",
    "clf.fit(tf)\n",
    "print(time.time() - start)"
   ]
  },
  {
   "cell_type": "code",
   "execution_count": 45,
   "id": "18334166",
   "metadata": {},
   "outputs": [],
   "source": [
    "# predicting the test data\n",
    "y_pred = clf.predict(x_test)"
   ]
  },
  {
   "cell_type": "code",
   "execution_count": 46,
   "id": "0092273c",
   "metadata": {},
   "outputs": [
    {
     "data": {
      "text/plain": [
       "array([-1, -1, -1, ..., -1, -1, -1], dtype=int64)"
      ]
     },
     "execution_count": 46,
     "metadata": {},
     "output_type": "execute_result"
    }
   ],
   "source": [
    "y_pred"
   ]
  },
  {
   "cell_type": "code",
   "execution_count": 47,
   "id": "3425cb78",
   "metadata": {},
   "outputs": [],
   "source": [
    "y_pred = [1 if score == -1 else 0 for score in y_pred]"
   ]
  },
  {
   "cell_type": "code",
   "execution_count": 48,
   "id": "4ea400d2",
   "metadata": {},
   "outputs": [
    {
     "data": {
      "text/plain": [
       "(139559,)"
      ]
     },
     "execution_count": 48,
     "metadata": {},
     "output_type": "execute_result"
    }
   ],
   "source": [
    "y_test.shape"
   ]
  },
  {
   "cell_type": "code",
   "execution_count": 49,
   "id": "e7e705ca",
   "metadata": {},
   "outputs": [
    {
     "data": {
      "text/plain": [
       "0.6621070658287893"
      ]
     },
     "execution_count": 49,
     "metadata": {},
     "output_type": "execute_result"
    }
   ],
   "source": [
    "# observing the accuracy\n",
    "acc = accuracy_score(y_test, y_pred)\n",
    "acc"
   ]
  },
  {
   "cell_type": "code",
   "execution_count": 50,
   "id": "98bb8f4e",
   "metadata": {},
   "outputs": [],
   "source": [
    "accuracy.append(acc)"
   ]
  },
  {
   "cell_type": "markdown",
   "id": "9229f4bd",
   "metadata": {},
   "source": [
    "# Visualising the results"
   ]
  },
  {
   "cell_type": "code",
   "execution_count": 51,
   "id": "d94aa8fd",
   "metadata": {},
   "outputs": [
    {
     "name": "stdout",
     "output_type": "stream",
     "text": [
      "          Algorithm  Accuracy\n",
      "0              LSTM  0.769562\n",
      "1  Isolation Forest  0.496586\n",
      "2     One-class SVM  0.662107\n"
     ]
    }
   ],
   "source": [
    "results = pd.DataFrame({  'Algorithm'       : ['LSTM','Isolation Forest','One-class SVM'],\n",
    "                          'Accuracy'        : accuracy\n",
    "                          })\n",
    "print(results)"
   ]
  },
  {
   "cell_type": "code",
   "execution_count": 52,
   "id": "383af3d9",
   "metadata": {
    "scrolled": true
   },
   "outputs": [
    {
     "data": {
      "text/plain": [
       "<AxesSubplot: xlabel='Algorithm', ylabel='Accuracy'>"
      ]
     },
     "execution_count": 52,
     "metadata": {},
     "output_type": "execute_result"
    },
    {
     "data": {
      "image/png": "[encoded data removed]",
      "text/plain": [
       "<Figure size 640x480 with 1 Axes>"
      ]
     },
     "metadata": {},
     "output_type": "display_data"
    }
   ],
   "source": [
    "sns.barplot(x='Algorithm', y='Accuracy', data=results)"
   ]
  },
  {
   "cell_type": "markdown",
   "id": "beedc2f6",
   "metadata": {},
   "source": [
    "# "
   ]
  }
 ],
 "metadata": {
  "kernelspec": {
   "display_name": "Python 3 (ipykernel)",
   "language": "python",
   "name": "python3"
  },
  "language_info": {
   "codemirror_mode": {
    "name": "ipython",
    "version": 3
   },
   "file_extension": ".py",
   "mimetype": "text/x-python",
   "name": "python",
   "nbconvert_exporter": "python",
   "pygments_lexer": "ipython3",
   "version": "3.10.8"
  }
 },
 "nbformat": 4,
 "nbformat_minor": 5
}
